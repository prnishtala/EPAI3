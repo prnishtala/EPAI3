{
  "nbformat": 4,
  "nbformat_minor": 0,
  "metadata": {
    "colab": {
      "name": "Session7 - Closures.ipynb",
      "provenance": [],
      "authorship_tag": "ABX9TyMxEwec05dcTqbxg3bUCaHy",
      "include_colab_link": true
    },
    "kernelspec": {
      "name": "python3",
      "display_name": "Python 3"
    },
    "language_info": {
      "name": "python"
    }
  },
  "cells": [
    {
      "cell_type": "markdown",
      "metadata": {
        "id": "view-in-github",
        "colab_type": "text"
      },
      "source": [
        "<a href=\"https://colab.research.google.com/github/prnishtala/EPAI3/blob/main/Phase1/Session7/Session7_Closures.ipynb\" target=\"_parent\"><img src=\"https://colab.research.google.com/assets/colab-badge.svg\" alt=\"Open In Colab\"/></a>"
      ]
    },
    {
      "cell_type": "markdown",
      "metadata": {
        "id": "JdoyHOHNnAEn"
      },
      "source": [
        "### Question 1\n",
        " Write a closure that takes a function and then check whether the function passed has a docstring with more than 50 characters. 50 is stored as a free variable"
      ]
    },
    {
      "cell_type": "code",
      "metadata": {
        "id": "kvXEeIm9iI4O"
      },
      "source": [
        "# Implementation\n",
        "\n",
        "def docstring_checker():\n",
        "    '''Once initialized, this function will check if a passed function has a docstring with > 50 characters'''\n",
        "    length = 50\n",
        "    def docstr_lengthcheck(fn):\n",
        "        '''This function checks if the function passed as an argument contains a docstring with more than 50 characters and returns a boolean value'''\n",
        "        return bool(fn.__doc__) and len(fn.__doc__) > length\n",
        "    return docstr_lengthcheck"
      ],
      "execution_count": 13,
      "outputs": []
    },
    {
      "cell_type": "code",
      "metadata": {
        "colab": {
          "base_uri": "https://localhost:8080/"
        },
        "id": "2Kxx8vIJk_Cx",
        "outputId": "d1eaeefa-426d-4657-9c24-dc5b9ad22ad9"
      },
      "source": [
        "# Tests\n",
        "\n",
        "# 1 \n",
        "def fn_with_docstring():\n",
        "    '''This function contains docstring with more than 50 characters'''\n",
        "    pass \n",
        "\n",
        "if docstring_checker()(fn_with_docstring):\n",
        "  print(\"Test 1: Success - function contains valid docstring\")\n",
        "else:\n",
        "  print(\"Test 1: Failed - function doesn't contain valid docstring\")\n",
        "\n",
        "# 2 \n",
        "def fn_without_valid_docstring():\n",
        "    '''<50 characters'''\n",
        "    pass \n",
        "\n",
        "if not(docstring_checker()(fn_without_valid_docstring)):\n",
        "  print(\"Test 2: Success - function doesn't contain valid docstring\")\n",
        "else:\n",
        "  print(\"Test 2: Failed - function contains valid docstring\")\n",
        "\n",
        "\n",
        "# 3 \n",
        "def fn_without_docstring():\n",
        "    pass \n",
        "\n",
        "if not(docstring_checker()(fn_without_docstring)):\n",
        "  print(\"Test 3: Success - function doesn't contain docstring\")\n",
        "else:\n",
        "  print(\"Test 3: Failed - function contains docstring\")\n",
        "\n",
        "# 4 \n",
        "def fn_with_null_docstring():\n",
        "    ''''''\n",
        "    pass \n",
        "\n",
        "if not(docstring_checker()(fn_with_null_docstring)):\n",
        "  print(\"Test 4: Success - function contains null docstring\")\n",
        "else:\n",
        "  print(\"Test 4: Failed - function doesn't contain docstring\")\n"
      ],
      "execution_count": 23,
      "outputs": [
        {
          "output_type": "stream",
          "text": [
            "Test 1: Success - function contains valid docstring\n",
            "Test 2: Success - function doesn't contain valid docstring\n",
            "Test 3: Success - function doesn't contain docstring\n",
            "Test 4: Success - function contains null docstring\n"
          ],
          "name": "stdout"
        }
      ]
    },
    {
      "cell_type": "markdown",
      "metadata": {
        "id": "frAJkiKDpmMT"
      },
      "source": [
        "### Question 2\n",
        "Write a closure that gives you the next Fibonacci number"
      ]
    },
    {
      "cell_type": "code",
      "metadata": {
        "id": "Qg_9eHP3ijBw"
      },
      "source": [
        "# Implementation\n",
        "\n",
        "def fibonacci_series():\n",
        "    '''Once initialized, this function will return the next fibonacci number in the series'''\n",
        "    init_no = 0\n",
        "    nxt_no = 1\n",
        "    count = 0\n",
        "    def next_fibonacci():\n",
        "        '''This function returns the next fibonacci number in the series'''\n",
        "        nonlocal init_no, nxt_no, count\n",
        "        if count == 0:\n",
        "            fibonacci_no = init_no\n",
        "        elif count == 1:\n",
        "            fibonacci_no = nxt_no\n",
        "        else:\n",
        "            fibonacci_no = init_no + nxt_no\n",
        "            init_no = nxt_no\n",
        "            nxt_no = fibonacci_no\n",
        "        count += 1\n",
        "        return fibonacci_no\n",
        "    return next_fibonacci"
      ],
      "execution_count": 24,
      "outputs": []
    },
    {
      "cell_type": "code",
      "metadata": {
        "colab": {
          "base_uri": "https://localhost:8080/"
        },
        "id": "TbCxkPxCpyEg",
        "outputId": "eea1dd84-bf7e-4e67-f893-19dc490e9092"
      },
      "source": [
        "# Tests\n",
        "\n",
        "fn = fibonacci_series()\n",
        "\n",
        "# 1 \n",
        "print(f'Test: Prints next number in the fibonacci series: {fn()}')\n",
        "\n",
        "# 2 \n",
        "print(f'Test: Prints next number in the fibonacci series: {fn()}')\n",
        "\n",
        "# 3 \n",
        "print(f'Test: Prints next number in the fibonacci series: {fn()}')\n",
        "\n",
        "# 4 \n",
        "print(f'Test: Prints next number in the fibonacci series: {fn()}')\n",
        "\n",
        "# 5 \n",
        "print(f'Test: Prints next number in the fibonacci series: {fn()}')\n",
        "\n",
        "# 6 \n",
        "print(f'Test: Prints next number in the fibonacci series: {fn()}')"
      ],
      "execution_count": 34,
      "outputs": [
        {
          "output_type": "stream",
          "text": [
            "Test: Prints next number in the fibonacci series: 0\n",
            "Test: Prints next number in the fibonacci series: 1\n",
            "Test: Prints next number in the fibonacci series: 1\n",
            "Test: Prints next number in the fibonacci series: 2\n",
            "Test: Prints next number in the fibonacci series: 3\n",
            "Test: Prints next number in the fibonacci series: 5\n"
          ],
          "name": "stdout"
        }
      ]
    },
    {
      "cell_type": "markdown",
      "metadata": {
        "id": "FInq2oFIrFRD"
      },
      "source": [
        "### Question 3\n",
        "Write a closure that can keep a track of how many times add/mul/div functions were called, and update a global dictionary variable with the counts"
      ]
    },
    {
      "cell_type": "code",
      "metadata": {
        "id": "JHatSR2crRKf"
      },
      "source": [
        "# Implementation\n",
        "\n",
        "counter_dict = dict()\n",
        "\n",
        "def counter_global(fn):\n",
        "    '''Once initialized, this function will return a the count of function calls'''\n",
        "    global counter_dict\n",
        "    counter_dict[fn.__name__] = 0\n",
        "    def inner(*args, **kwargs):\n",
        "        '''This function returns add/div/mul passed as an argument and prints their counts'''\n",
        "        counter_dict[fn.__name__] += 1\n",
        "        print('{0} has been called {1} times'.format(fn.__name__, counter_dict[fn.__name__]))\n",
        "        return fn(*args, **kwargs)\n",
        "    return inner\n",
        "\n"
      ],
      "execution_count": 41,
      "outputs": []
    },
    {
      "cell_type": "code",
      "metadata": {
        "colab": {
          "base_uri": "https://localhost:8080/"
        },
        "id": "0iceyIGIsFwG",
        "outputId": "4727af70-eacd-4635-d286-b9a043193228"
      },
      "source": [
        "# Test\n",
        "\n",
        "def add(a, b):\n",
        "        '''This function returns the addition of a & b'''\n",
        "        return a + b\n",
        "def mul(a, b):\n",
        "    '''This function returns the multiplication of a & b'''\n",
        "    return a*b\n",
        "def div(a, b):\n",
        "    '''This function returns the division of a & b'''\n",
        "    return a/b if b!=0 else 0\n",
        "\n",
        "fn_add = counter_global(add)\n",
        "fn_mul = counter_global(mul)\n",
        "fn_div = counter_global(div)\n",
        "\n",
        "\n",
        "# Call Add 4 times\n",
        "fn_add(5,6)\n",
        "fn_add(3,2)\n",
        "fn_add(0,-1)\n",
        "fn_add(4,2)\n",
        "\n",
        "# Call Mul 3 times\n",
        "fn_mul(12, 5)\n",
        "fn_mul(-1, 2)\n",
        "fn_mul(-1,-2)\n",
        "\n",
        "# Call Div 2 times\n",
        "fn_div(4,4)\n",
        "fn_div(3,2)\n"
      ],
      "execution_count": 51,
      "outputs": [
        {
          "output_type": "stream",
          "text": [
            "add has been called 1 times\n",
            "add has been called 2 times\n",
            "add has been called 3 times\n",
            "add has been called 4 times\n",
            "mul has been called 1 times\n",
            "mul has been called 2 times\n",
            "mul has been called 3 times\n",
            "div has been called 1 times\n",
            "div has been called 2 times\n"
          ],
          "name": "stdout"
        },
        {
          "output_type": "execute_result",
          "data": {
            "text/plain": [
              "1.5"
            ]
          },
          "metadata": {
            "tags": []
          },
          "execution_count": 51
        }
      ]
    },
    {
      "cell_type": "markdown",
      "metadata": {
        "id": "7ZcvokqKu02u"
      },
      "source": [
        "### Question 4\n",
        "Modify above such that now we can pass in different dictionary variables to update different dictionaries"
      ]
    },
    {
      "cell_type": "code",
      "metadata": {
        "id": "rG7DV-DZu61A"
      },
      "source": [
        "# Implementation\n",
        "\n",
        "def counter_cust_dict(counter):\n",
        "    '''Once initialized, this function will return a the count of function calls and add it to the user defined dictionary object'''\n",
        "    counter = {'add': 0, 'mul': 0, 'div': 0}\n",
        "    def inner(*args, **kwargs):\n",
        "        '''This function returns add/div/mul as passed and prints the counts of them'''\n",
        "        nonlocal counter\n",
        "        counter[args[0].__name__] += 1\n",
        "        print('{0} has been called {1} times'.format(args[0].__name__, counter[args[0].__name__]))\n",
        "        return args[0](args[1], args[2]), counter\n",
        "    return inner"
      ],
      "execution_count": 57,
      "outputs": []
    },
    {
      "cell_type": "code",
      "metadata": {
        "colab": {
          "base_uri": "https://localhost:8080/"
        },
        "id": "rF1WtOVAw2Aj",
        "outputId": "673f741e-3dab-4e0a-f8b5-1cb7e2db29fc"
      },
      "source": [
        "# Test\n",
        "\n",
        "def add(a, b):\n",
        "        '''This function returns the addition of a & b'''\n",
        "        return a + b\n",
        "def mul(a, b):\n",
        "    '''This function returns the multiplication of a & b'''\n",
        "    return a*b\n",
        "def div(a, b):\n",
        "    '''This function returns the division of a & b'''\n",
        "    return a/b if b!=0 else 0\n",
        "\n",
        "dict1 = dict()\n",
        "dict2 = dict()\n",
        "\n",
        "counter_dict1 = counter_cust_dict(dict1)\n",
        "counter_dict2 = counter_cust_dict(dict2)\n",
        "\n",
        "counter_dict1(add,2,3)\n",
        "counter_dict1(mul,2,3)\n",
        "counter_dict1(div,2,3)\n",
        "    \n",
        "\n",
        "counter_dict2(add,2,3)\n",
        "counter_dict2(mul,2,3)\n",
        "counter_dict2(div,2,3)\n",
        "\n",
        "counter_dict1\n",
        "counter_dict2"
      ],
      "execution_count": 60,
      "outputs": [
        {
          "output_type": "stream",
          "text": [
            "add has been called 1 times\n",
            "mul has been called 1 times\n",
            "div has been called 1 times\n",
            "add has been called 1 times\n",
            "mul has been called 1 times\n",
            "div has been called 1 times\n"
          ],
          "name": "stdout"
        },
        {
          "output_type": "execute_result",
          "data": {
            "text/plain": [
              "<function __main__.counter_cust_dict.<locals>.inner>"
            ]
          },
          "metadata": {
            "tags": []
          },
          "execution_count": 60
        }
      ]
    }
  ]
}