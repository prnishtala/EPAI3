{
  "nbformat": 4,
  "nbformat_minor": 0,
  "metadata": {
    "colab": {
      "name": "Session11.ipynb",
      "provenance": [],
      "collapsed_sections": [
        "9uGF4mhUu692",
        "MbpjRHBLvlYv"
      ],
      "include_colab_link": true
    },
    "kernelspec": {
      "name": "python3",
      "display_name": "Python 3"
    },
    "language_info": {
      "name": "python"
    }
  },
  "cells": [
    {
      "cell_type": "markdown",
      "metadata": {
        "id": "view-in-github",
        "colab_type": "text"
      },
      "source": [
        "<a href=\"https://colab.research.google.com/github/prnishtala/EPAI3/blob/main/Phase1/Session11/Session11.ipynb\" target=\"_parent\"><img src=\"https://colab.research.google.com/assets/colab-badge.svg\" alt=\"Open In Colab\"/></a>"
      ]
    },
    {
      "cell_type": "code",
      "metadata": {
        "id": "L3u7zxSCpDTC"
      },
      "source": [
        "import math\n",
        "from functools import lru_cache\n"
      ],
      "execution_count": 9,
      "outputs": []
    },
    {
      "cell_type": "markdown",
      "metadata": {
        "id": "9uGF4mhUu692"
      },
      "source": [
        "### **Polygon Class**"
      ]
    },
    {
      "cell_type": "code",
      "metadata": {
        "id": "tzPU_k69vt26"
      },
      "source": [
        "import math\n",
        "\n",
        "class Polygon:\n",
        "    def __init__(self, n, r):\n",
        "        if n <= 2:\n",
        "            raise ValueError('Number of vertices of polygon cannot be less than 3')\n",
        "\n",
        "        self.no_of_vertices = n\n",
        "        self.circumradius = r\n",
        "\n",
        "        self._interior_angle = None\n",
        "        self._edge_length = None\n",
        "        self._apothem = None\n",
        "        self._area = None\n",
        "        self._perimeter = None\n",
        "        self._efficiency = None\n",
        "\n",
        "    def calc_interior_angle(self):\n",
        "        angle = (self.no_of_vertices - 2) * 180 / math.pi\n",
        "        return angle\n",
        "\n",
        "    def calc_edge_length(self):\n",
        "        s = 2 * self.circumradius * math.sin(math.pi / self.no_of_vertices)\n",
        "        return s\n",
        "\n",
        "    def calc_apothem(self):\n",
        "        a = self.circumradius * math.cos(math.pi / self.no_of_vertices)\n",
        "        return a\n",
        "\n",
        "    def calc_area(self):\n",
        "        area = 0.5 * self.no_of_vertices * self.edge_length * self.apothem\n",
        "        return area\n",
        "\n",
        "    def calc_perimeter(self):\n",
        "        perimeter = self.no_of_vertices * self.edge_length\n",
        "        return perimeter\n",
        "\n",
        "    def calc_efficiency(self):\n",
        "        efficiency = self.area / self.perimeter\n",
        "        return efficiency\n",
        "\n",
        "\n",
        "    @property\n",
        "    def interior_angle(self):\n",
        "        if not self._interior_angle:\n",
        "            self._interior_angle = self.calc_interior_angle()\n",
        "        return self._interior_angle\n",
        "\n",
        "    @property\n",
        "    def edge_length(self):\n",
        "        if not self._edge_length:\n",
        "            self._edge_length = self.calc_edge_length()\n",
        "        return self._edge_length\n",
        "\n",
        "    @property\n",
        "    def apothem(self):\n",
        "        if not self._apothem:\n",
        "            self._apothem = self.calc_apothem()\n",
        "        return self._apothem\n",
        "\n",
        "    @property\n",
        "    def area(self):\n",
        "        if not self._area:\n",
        "            self._area = self.calc_area()\n",
        "        return self._area\n",
        "\n",
        "    @property\n",
        "    def perimeter(self):\n",
        "        if not self._perimeter:\n",
        "            self._perimeter = self.calc_perimeter()\n",
        "        return self._perimeter\n",
        "\n",
        "    @property\n",
        "    def efficiency(self):\n",
        "        if not self._efficiency:\n",
        "            self._efficiency = self.calc_efficiency()\n",
        "        return self._efficiency\n",
        "\n",
        "    def __repr__(self):\n",
        "        return f'Polygon(Vertices: {self.no_of_vertices}, CircumRadius: {self.circumradius})'\n",
        "\n",
        "    def __gt__(self, polygon2):\n",
        "        return self.no_of_vertices > polygon2.no_of_vertices\n",
        "\n",
        "    def __eq__(self, polygon2):\n",
        "        return self.no_of_vertices == polygon2.no_of_vertices and self.circumradius == polygon2.circumradius\n",
        "\n"
      ],
      "execution_count": 8,
      "outputs": []
    },
    {
      "cell_type": "code",
      "metadata": {
        "colab": {
          "base_uri": "https://localhost:8080/"
        },
        "id": "sDkWtWpHvEIJ",
        "outputId": "7402c663-533e-4225-d30d-bf31eeada101"
      },
      "source": [
        "polygon = Polygon(8, 5)\n",
        "print(polygon)"
      ],
      "execution_count": 11,
      "outputs": [
        {
          "output_type": "stream",
          "text": [
            "Polygon(Vertices: 8, CircumRadius: 5)\n"
          ],
          "name": "stdout"
        }
      ]
    },
    {
      "cell_type": "code",
      "metadata": {
        "colab": {
          "base_uri": "https://localhost:8080/"
        },
        "id": "i56rAsNBv2xk",
        "outputId": "ff43e206-5302-43b6-86c5-f581193f404b"
      },
      "source": [
        "print(\"Polygon Details: \\n\")\n",
        "print(\"Interior angle: \", polygon.interior_angle)\n",
        "print(\"Edge Length: \", polygon.edge_length)\n",
        "print(\"Apothem: \", polygon.apothem )\n",
        "print(\"Area: \", polygon.area)\n",
        "print(\"Perimeter: \", polygon.perimeter)\n"
      ],
      "execution_count": 12,
      "outputs": [
        {
          "output_type": "stream",
          "text": [
            "Polygon Details: \n",
            "\n",
            "Interior angle:  343.77467707849394\n",
            "Edge Length:  3.826834323650898\n",
            "Apothem:  4.619397662556434\n",
            "Area:  70.71067811865476\n",
            "Perimeter:  30.614674589207183\n"
          ],
          "name": "stdout"
        }
      ]
    },
    {
      "cell_type": "markdown",
      "metadata": {
        "id": "BqHx39b-vAb8"
      },
      "source": [
        "### **PolygonSequencer**"
      ]
    },
    {
      "cell_type": "code",
      "metadata": {
        "id": "bwkJAJjdvJmn"
      },
      "source": [
        "from functools import lru_cache\n",
        "\n",
        "class PolygonSequencer:\n",
        "\n",
        "    def __init__(self, n, r):\n",
        "        if n <= 2:\n",
        "            raise ValueError('Number of vertices for polygon sequence cannot be less than 3')\n",
        "\n",
        "        self.n = n - 2\n",
        "        self.circumradius = r\n",
        "        self.polygons = self.get_polygons()\n",
        "        # print(\"Polygons are: \", self.polygons)\n",
        "\n",
        "    def max_efficiency_polygon(self):\n",
        "        area_perimeter_ratio = [(polygon.efficiency, i) for i, polygon in enumerate(self.polygons)]\n",
        "        return max(area_perimeter_ratio)\n",
        "\n",
        "    def get_polygons(self):\n",
        "        \"\"\"Function to get the sequence of polygons\"\"\"\n",
        "        p = [PolygonSequencer._polygon(i, self.circumradius) for i in range(0, self.n)]\n",
        "        return p\n",
        "\n",
        "    def __iter__(self):\n",
        "        print(\"Calling CustomPolygonSequencer __iter__ function\")\n",
        "        return self.PolygonIterator(self)\n",
        "\n",
        "    def __len__(self):\n",
        "        return self.n\n",
        "\n",
        "    def __repr__(self):\n",
        "        return f'Polygons(m={self.n}, R={self.circumradius})'\n",
        "\n",
        "    def __getitem__(self, index):\n",
        "        # print(\"\\nIn getitem: index=\", index)\n",
        "        if isinstance(index, int):\n",
        "            if index < 0 or index > self.n-1:\n",
        "                raise IndexError\n",
        "            else:\n",
        "                return PolygonSequencer._polygon(index, self.circumradius)\n",
        "        else:\n",
        "            start, stop, step = index.indices(self.n)\n",
        "            rng = range(start, stop, step)\n",
        "            return [PolygonSequencer._polygon(i, self.circumradius) for i in rng]\n",
        "\n",
        "    @staticmethod\n",
        "    @lru_cache(2 ** 5)\n",
        "    def _polygon(n, r):\n",
        "        # Polygon sequence starts from 3. ie polygon at position 0 will have 3 sides, ... etc\n",
        "        polygon = Polygon(n + 3, r)\n",
        "        # print(f\"Polygon for index {n} is {polygon}\")\n",
        "        return polygon\n",
        "\n",
        "\n",
        "    class PolygonIterator:\n",
        "        def __init__(self, polygon_obj):\n",
        "            self._index = 0\n",
        "            self._polygon_obj = polygon_obj\n",
        "\n",
        "        def __iter__(self):\n",
        "            print(\"Calling PolygonIterator __iter__ function\")\n",
        "            return self\n",
        "\n",
        "        def __next__(self):\n",
        "            print(\"Calling PolygonIterator __next__ function: index=\", self._index)\n",
        "\n",
        "            if self._index >= len(self._polygon_obj.polygons):\n",
        "                raise StopIteration\n",
        "            else:\n",
        "                item = self._polygon_obj.polygons[self._index]\n",
        "                self._index += 1\n",
        "                return item\n",
        "\n"
      ],
      "execution_count": 14,
      "outputs": []
    },
    {
      "cell_type": "code",
      "metadata": {
        "colab": {
          "base_uri": "https://localhost:8080/",
          "height": 1000
        },
        "id": "vM-KKOasTL28",
        "outputId": "1d6478c1-1428-4866-f3e9-397dbd218170"
      },
      "source": [
        "polygons = PolygonSequencer(8, 5)\n",
        "\n",
        "print(\"Polygon iter 1: \", list(enumerate(polygons)))\n",
        "print(\"\\n\\n\")\n",
        "\n",
        "print(\"Polygon iter 2: For loop\")\n",
        "for polygon in polygons:\n",
        "    print(\"Polygon: \", polygon)\n",
        "\n",
        "print(\"\\n\\n\")\n",
        "\n",
        "print(\"With iterator and next:\")\n",
        "poly_iter = iter(polygons)\n",
        "print(next(poly_iter))\n",
        "print(next(poly_iter))\n",
        "print(next(poly_iter))\n",
        "print(next(poly_iter))\n",
        "print(next(poly_iter))\n",
        "print(next(poly_iter))\n",
        "print(next(poly_iter))\n"
      ],
      "execution_count": 17,
      "outputs": [
        {
          "output_type": "stream",
          "text": [
            "Calling CustomPolygonSequencer __iter__ function\n",
            "Calling PolygonIterator __next__ function: index= 0\n",
            "Calling PolygonIterator __next__ function: index= 1\n",
            "Calling PolygonIterator __next__ function: index= 2\n",
            "Calling PolygonIterator __next__ function: index= 3\n",
            "Calling PolygonIterator __next__ function: index= 4\n",
            "Calling PolygonIterator __next__ function: index= 5\n",
            "Calling PolygonIterator __next__ function: index= 6\n",
            "Polygon iter 1:  [(0, Polygon(Vertices: 3, CircumRadius: 5)), (1, Polygon(Vertices: 4, CircumRadius: 5)), (2, Polygon(Vertices: 5, CircumRadius: 5)), (3, Polygon(Vertices: 6, CircumRadius: 5)), (4, Polygon(Vertices: 7, CircumRadius: 5)), (5, Polygon(Vertices: 8, CircumRadius: 5))]\n",
            "\n",
            "\n",
            "\n",
            "Polygon iter 2: For loop\n",
            "Calling CustomPolygonSequencer __iter__ function\n",
            "Calling PolygonIterator __next__ function: index= 0\n",
            "Polygon:  Polygon(Vertices: 3, CircumRadius: 5)\n",
            "Calling PolygonIterator __next__ function: index= 1\n",
            "Polygon:  Polygon(Vertices: 4, CircumRadius: 5)\n",
            "Calling PolygonIterator __next__ function: index= 2\n",
            "Polygon:  Polygon(Vertices: 5, CircumRadius: 5)\n",
            "Calling PolygonIterator __next__ function: index= 3\n",
            "Polygon:  Polygon(Vertices: 6, CircumRadius: 5)\n",
            "Calling PolygonIterator __next__ function: index= 4\n",
            "Polygon:  Polygon(Vertices: 7, CircumRadius: 5)\n",
            "Calling PolygonIterator __next__ function: index= 5\n",
            "Polygon:  Polygon(Vertices: 8, CircumRadius: 5)\n",
            "Calling PolygonIterator __next__ function: index= 6\n",
            "\n",
            "\n",
            "\n",
            "With iterator and next:\n",
            "Calling CustomPolygonSequencer __iter__ function\n",
            "Calling PolygonIterator __next__ function: index= 0\n",
            "Polygon(Vertices: 3, CircumRadius: 5)\n",
            "Calling PolygonIterator __next__ function: index= 1\n",
            "Polygon(Vertices: 4, CircumRadius: 5)\n",
            "Calling PolygonIterator __next__ function: index= 2\n",
            "Polygon(Vertices: 5, CircumRadius: 5)\n",
            "Calling PolygonIterator __next__ function: index= 3\n",
            "Polygon(Vertices: 6, CircumRadius: 5)\n",
            "Calling PolygonIterator __next__ function: index= 4\n",
            "Polygon(Vertices: 7, CircumRadius: 5)\n",
            "Calling PolygonIterator __next__ function: index= 5\n",
            "Polygon(Vertices: 8, CircumRadius: 5)\n",
            "Calling PolygonIterator __next__ function: index= 6\n"
          ],
          "name": "stdout"
        },
        {
          "output_type": "error",
          "ename": "StopIteration",
          "evalue": "ignored",
          "traceback": [
            "\u001b[0;31m---------------------------------------------------------------------------\u001b[0m",
            "\u001b[0;31mStopIteration\u001b[0m                             Traceback (most recent call last)",
            "\u001b[0;32m<ipython-input-17-edc7d5569505>\u001b[0m in \u001b[0;36m<module>\u001b[0;34m()\u001b[0m\n\u001b[1;32m     18\u001b[0m \u001b[0mprint\u001b[0m\u001b[0;34m(\u001b[0m\u001b[0mnext\u001b[0m\u001b[0;34m(\u001b[0m\u001b[0mpoly_iter\u001b[0m\u001b[0;34m)\u001b[0m\u001b[0;34m)\u001b[0m\u001b[0;34m\u001b[0m\u001b[0;34m\u001b[0m\u001b[0m\n\u001b[1;32m     19\u001b[0m \u001b[0mprint\u001b[0m\u001b[0;34m(\u001b[0m\u001b[0mnext\u001b[0m\u001b[0;34m(\u001b[0m\u001b[0mpoly_iter\u001b[0m\u001b[0;34m)\u001b[0m\u001b[0;34m)\u001b[0m\u001b[0;34m\u001b[0m\u001b[0;34m\u001b[0m\u001b[0m\n\u001b[0;32m---> 20\u001b[0;31m \u001b[0mprint\u001b[0m\u001b[0;34m(\u001b[0m\u001b[0mnext\u001b[0m\u001b[0;34m(\u001b[0m\u001b[0mpoly_iter\u001b[0m\u001b[0;34m)\u001b[0m\u001b[0;34m)\u001b[0m\u001b[0;34m\u001b[0m\u001b[0;34m\u001b[0m\u001b[0m\n\u001b[0m",
            "\u001b[0;32m<ipython-input-14-ae25bba1cdbd>\u001b[0m in \u001b[0;36m__next__\u001b[0;34m(self)\u001b[0m\n\u001b[1;32m     65\u001b[0m \u001b[0;34m\u001b[0m\u001b[0m\n\u001b[1;32m     66\u001b[0m             \u001b[0;32mif\u001b[0m \u001b[0mself\u001b[0m\u001b[0;34m.\u001b[0m\u001b[0m_index\u001b[0m \u001b[0;34m>=\u001b[0m \u001b[0mlen\u001b[0m\u001b[0;34m(\u001b[0m\u001b[0mself\u001b[0m\u001b[0;34m.\u001b[0m\u001b[0m_polygon_obj\u001b[0m\u001b[0;34m.\u001b[0m\u001b[0mpolygons\u001b[0m\u001b[0;34m)\u001b[0m\u001b[0;34m:\u001b[0m\u001b[0;34m\u001b[0m\u001b[0;34m\u001b[0m\u001b[0m\n\u001b[0;32m---> 67\u001b[0;31m                 \u001b[0;32mraise\u001b[0m \u001b[0mStopIteration\u001b[0m\u001b[0;34m\u001b[0m\u001b[0;34m\u001b[0m\u001b[0m\n\u001b[0m\u001b[1;32m     68\u001b[0m             \u001b[0;32melse\u001b[0m\u001b[0;34m:\u001b[0m\u001b[0;34m\u001b[0m\u001b[0;34m\u001b[0m\u001b[0m\n\u001b[1;32m     69\u001b[0m                 \u001b[0mitem\u001b[0m \u001b[0;34m=\u001b[0m \u001b[0mself\u001b[0m\u001b[0;34m.\u001b[0m\u001b[0m_polygon_obj\u001b[0m\u001b[0;34m.\u001b[0m\u001b[0mpolygons\u001b[0m\u001b[0;34m[\u001b[0m\u001b[0mself\u001b[0m\u001b[0;34m.\u001b[0m\u001b[0m_index\u001b[0m\u001b[0;34m]\u001b[0m\u001b[0;34m\u001b[0m\u001b[0;34m\u001b[0m\u001b[0m\n",
            "\u001b[0;31mStopIteration\u001b[0m: "
          ]
        }
      ]
    },
    {
      "cell_type": "code",
      "metadata": {
        "id": "1psrCyHnwfPB"
      },
      "source": [
        ""
      ],
      "execution_count": null,
      "outputs": []
    }
  ]
}