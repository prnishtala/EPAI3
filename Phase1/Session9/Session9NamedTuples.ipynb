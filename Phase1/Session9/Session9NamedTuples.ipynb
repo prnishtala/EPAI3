{
  "nbformat": 4,
  "nbformat_minor": 0,
  "metadata": {
    "colab": {
      "name": "Session9NamedTuples.ipynb",
      "provenance": [],
      "collapsed_sections": [],
      "include_colab_link": true
    },
    "kernelspec": {
      "name": "python3",
      "display_name": "Python 3"
    }
  },
  "cells": [
    {
      "cell_type": "markdown",
      "metadata": {
        "id": "view-in-github",
        "colab_type": "text"
      },
      "source": [
        "<a href=\"https://colab.research.google.com/github/prnishtala/EPAI3/blob/main/Phase1/Session9/Session9NamedTuples.ipynb\" target=\"_parent\"><img src=\"https://colab.research.google.com/assets/colab-badge.svg\" alt=\"Open In Colab\"/></a>"
      ]
    },
    {
      "cell_type": "markdown",
      "metadata": {
        "id": "oXniAXhBguNg"
      },
      "source": [
        "Installing Faker Library"
      ]
    },
    {
      "cell_type": "code",
      "metadata": {
        "id": "ZwX_Gn2aJ4w9",
        "colab": {
          "base_uri": "https://localhost:8080/"
        },
        "outputId": "f32196f0-3176-473b-df93-6375411d8d62"
      },
      "source": [
        "!pip install faker"
      ],
      "execution_count": null,
      "outputs": [
        {
          "output_type": "stream",
          "text": [
            "Collecting faker\n",
            "\u001b[?25l  Downloading https://files.pythonhosted.org/packages/e4/be/d03e305f1d879f541c23d586023ec11b124d6cc3d75a95159470754134d9/Faker-8.10.0-py3-none-any.whl (1.2MB)\n",
            "\u001b[K     |████████████████████████████████| 1.2MB 5.7MB/s \n",
            "\u001b[?25hRequirement already satisfied: text-unidecode==1.3 in /usr/local/lib/python3.7/dist-packages (from faker) (1.3)\n",
            "Requirement already satisfied: python-dateutil>=2.4 in /usr/local/lib/python3.7/dist-packages (from faker) (2.8.1)\n",
            "Requirement already satisfied: six>=1.5 in /usr/local/lib/python3.7/dist-packages (from python-dateutil>=2.4->faker) (1.15.0)\n",
            "Installing collected packages: faker\n",
            "Successfully installed faker-8.10.0\n"
          ],
          "name": "stdout"
        }
      ]
    },
    {
      "cell_type": "markdown",
      "metadata": {
        "id": "yz3gL57mg0xM"
      },
      "source": [
        "#### Import Requisite Packages"
      ]
    },
    {
      "cell_type": "code",
      "metadata": {
        "id": "OWMtgfyfeuyq"
      },
      "source": [
        "from faker import Faker\n",
        "from collections import namedtuple\n",
        "import datetime\n",
        "import random, time"
      ],
      "execution_count": null,
      "outputs": []
    },
    {
      "cell_type": "markdown",
      "metadata": {
        "id": "yiWYGNFDaPta"
      },
      "source": [
        "#### Question 1 and 2: Use the Faker library to get 10000 random profiles. Using namedtuple and Dictionary, calculate the largest blood type, mean-current_location, oldest_person_age, and average age (add proper doc-strings)."
      ]
    },
    {
      "cell_type": "code",
      "metadata": {
        "id": "D1DKd0G9ivpN"
      },
      "source": [
        "# Create an instance of Faker\n",
        "fake = Faker()\n",
        "\n",
        "#Create the namedtuple to store fake profiles\n",
        "profile = namedtuple('Profile',fake.profile().keys())"
      ],
      "execution_count": null,
      "outputs": []
    },
    {
      "cell_type": "code",
      "metadata": {
        "colab": {
          "base_uri": "https://localhost:8080/"
        },
        "id": "bJ38IWKfd0Ag",
        "outputId": "1fa08335-1122-4cfe-c4dc-88c8d386874d"
      },
      "source": [
        "# Adding doc-strings to the NamedTuple\n",
        "\n",
        "profile.__doc__ = \"Represents the Complete Job Profile of a Person\"\n",
        "profile.job.__doc__ = \"Represents the job of a person\"\n",
        "profile.company.__doc__ = \"Represents the company of a person\"\n",
        "profile.ssn.__doc__ = \"Represents the ssn of a person\"\n",
        "profile.residence.__doc__ = \"Represents the residence of a person\"\n",
        "profile.current_location.__doc__ = \"Represents the current_location of a person\"\n",
        "profile.blood_group.__doc__ = \"Represents the blood_group of a person\"\n",
        "profile.website.__doc__ = \"Represents the website of a person\"\n",
        "profile.username.__doc__ = \"Represents the username of a person\"\n",
        "profile.name.__doc__ = \"Represents the name of a person\"\n",
        "profile.sex.__doc__ = \"Represents the gender of a person\"\n",
        "profile.address.__doc__ = \"Represents the address of a person\"\n",
        "profile.mail.__doc__ = \"Represents the mail of a person\"\n",
        "profile.birthdate.__doc__ = \"Represents the birthdate of a person\"\n",
        "\n",
        "help(profile)"
      ],
      "execution_count": null,
      "outputs": [
        {
          "output_type": "stream",
          "text": [
            "Help on class Profile in module __main__:\n",
            "\n",
            "class Profile(builtins.tuple)\n",
            " |  Profile(job, company, ssn, residence, current_location, blood_group, website, username, name, sex, address, mail, birthdate)\n",
            " |  \n",
            " |  Represents the Complete Job Profile of a Person\n",
            " |  \n",
            " |  Method resolution order:\n",
            " |      Profile\n",
            " |      builtins.tuple\n",
            " |      builtins.object\n",
            " |  \n",
            " |  Methods defined here:\n",
            " |  \n",
            " |  __getnewargs__(self)\n",
            " |      Return self as a plain tuple.  Used by copy and pickle.\n",
            " |  \n",
            " |  __repr__(self)\n",
            " |      Return a nicely formatted representation string\n",
            " |  \n",
            " |  _asdict(self)\n",
            " |      Return a new OrderedDict which maps field names to their values.\n",
            " |  \n",
            " |  _replace(_self, **kwds)\n",
            " |      Return a new Profile object replacing specified fields with new values\n",
            " |  \n",
            " |  ----------------------------------------------------------------------\n",
            " |  Class methods defined here:\n",
            " |  \n",
            " |  _make(iterable) from builtins.type\n",
            " |      Make a new Profile object from a sequence or iterable\n",
            " |  \n",
            " |  ----------------------------------------------------------------------\n",
            " |  Static methods defined here:\n",
            " |  \n",
            " |  __new__(_cls, job, company, ssn, residence, current_location, blood_group, website, username, name, sex, address, mail, birthdate)\n",
            " |      Create new instance of Profile(job, company, ssn, residence, current_location, blood_group, website, username, name, sex, address, mail, birthdate)\n",
            " |  \n",
            " |  ----------------------------------------------------------------------\n",
            " |  Data descriptors defined here:\n",
            " |  \n",
            " |  job\n",
            " |      Represents the job of a person\n",
            " |  \n",
            " |  company\n",
            " |      Represents the company of a person\n",
            " |  \n",
            " |  ssn\n",
            " |      Represents the ssn of a person\n",
            " |  \n",
            " |  residence\n",
            " |      Represents the residence of a person\n",
            " |  \n",
            " |  current_location\n",
            " |      Represents the current_location of a person\n",
            " |  \n",
            " |  blood_group\n",
            " |      Represents the blood_group of a person\n",
            " |  \n",
            " |  website\n",
            " |      Represents the website of a person\n",
            " |  \n",
            " |  username\n",
            " |      Represents the username of a person\n",
            " |  \n",
            " |  name\n",
            " |      Represents the name of a person\n",
            " |  \n",
            " |  sex\n",
            " |      Represents the gender of a person\n",
            " |  \n",
            " |  address\n",
            " |      Represents the address of a person\n",
            " |  \n",
            " |  mail\n",
            " |      Represents the mail of a person\n",
            " |  \n",
            " |  birthdate\n",
            " |      Represents the birthdate of a person\n",
            " |  \n",
            " |  ----------------------------------------------------------------------\n",
            " |  Data and other attributes defined here:\n",
            " |  \n",
            " |  _field_defaults = {}\n",
            " |  \n",
            " |  _fields = ('job', 'company', 'ssn', 'residence', 'current_location', '...\n",
            " |  \n",
            " |  _fields_defaults = {}\n",
            " |  \n",
            " |  ----------------------------------------------------------------------\n",
            " |  Methods inherited from builtins.tuple:\n",
            " |  \n",
            " |  __add__(self, value, /)\n",
            " |      Return self+value.\n",
            " |  \n",
            " |  __contains__(self, key, /)\n",
            " |      Return key in self.\n",
            " |  \n",
            " |  __eq__(self, value, /)\n",
            " |      Return self==value.\n",
            " |  \n",
            " |  __ge__(self, value, /)\n",
            " |      Return self>=value.\n",
            " |  \n",
            " |  __getattribute__(self, name, /)\n",
            " |      Return getattr(self, name).\n",
            " |  \n",
            " |  __getitem__(self, key, /)\n",
            " |      Return self[key].\n",
            " |  \n",
            " |  __gt__(self, value, /)\n",
            " |      Return self>value.\n",
            " |  \n",
            " |  __hash__(self, /)\n",
            " |      Return hash(self).\n",
            " |  \n",
            " |  __iter__(self, /)\n",
            " |      Implement iter(self).\n",
            " |  \n",
            " |  __le__(self, value, /)\n",
            " |      Return self<=value.\n",
            " |  \n",
            " |  __len__(self, /)\n",
            " |      Return len(self).\n",
            " |  \n",
            " |  __lt__(self, value, /)\n",
            " |      Return self<value.\n",
            " |  \n",
            " |  __mul__(self, value, /)\n",
            " |      Return self*value.\n",
            " |  \n",
            " |  __ne__(self, value, /)\n",
            " |      Return self!=value.\n",
            " |  \n",
            " |  __rmul__(self, value, /)\n",
            " |      Return value*self.\n",
            " |  \n",
            " |  count(self, value, /)\n",
            " |      Return number of occurrences of value.\n",
            " |  \n",
            " |  index(self, value, start=0, stop=9223372036854775807, /)\n",
            " |      Return first index of value.\n",
            " |      \n",
            " |      Raises ValueError if the value is not present.\n",
            "\n"
          ],
          "name": "stdout"
        }
      ]
    },
    {
      "cell_type": "code",
      "metadata": {
        "id": "qODcqEx2gVWf"
      },
      "source": [
        "def create_fake_profile_using_namedtuple(n):\n",
        "    ''' Method to generate Fake Profiles using Named Tuple'''\n",
        "    profile = namedtuple('Profile',fake.profile().keys())\n",
        "    return [profile(**fake.profile()) for i in range(n)]\n"
      ],
      "execution_count": null,
      "outputs": []
    },
    {
      "cell_type": "code",
      "metadata": {
        "id": "nUi0KxMasH_r"
      },
      "source": [
        "def create_fake_profile_using_dictionary(n):\n",
        "    ''' Method to generate Fake Profiles using Dictionary'''\n",
        "    profile = namedtuple('Profile',fake.profile().keys())\n",
        "    return [fake.profile() for i in range(n)]"
      ],
      "execution_count": null,
      "outputs": []
    },
    {
      "cell_type": "code",
      "metadata": {
        "id": "VZCpji-nk3yC"
      },
      "source": [
        "# Create a blood group frequency dictionary to calculate the blood group with the maximum frequency in the sample set\n",
        "def mostcommon_blood_type(f_profile, approach):\n",
        "  ''' Method to calculate  the blood group with the maximum frequency in the sample set'''\n",
        "  blood_freq = dict()\n",
        "\n",
        "  if approach == 'NamedTuple':\n",
        "    blood_grp_list = [profile.blood_group for profile in f_profile]\n",
        "  else:\n",
        "    blood_grp_list = [profile['blood_group'] for profile in f_profile]\n",
        "\n",
        "\n",
        "  for item in blood_grp_list:\n",
        "    if item not in blood_freq:\n",
        "      blood_freq.update({item : 1})\n",
        "    else:\n",
        "      blood_freq.update({item : blood_freq[str(item)] + 1})\n",
        "  \n",
        "  blood_freq, list(blood_freq.keys())[list(blood_freq.values()).index(max(blood_freq.values()))]\n",
        "  print(f'Blood Group Distribution: {blood_freq}')\n",
        "  print(f'{max_blood_grp} is the most common blood group in the sample set')\n",
        "\n",
        "\n",
        "\n",
        "# Calculate mean location\n",
        "def mean_loc(f_profile, approach):\n",
        "  '''Method to calculate mean location across all the sample profiles'''\n",
        "  if approach == 'NamedTuple':\n",
        "    print(f'Mean Location of the sample set: {sum([profile.current_location[0] for profile in f_profile])/len(f_profile),sum([profile.current_location[1] for profile in f_profile])/len(f_profile)}')\n",
        "  else:\n",
        "    loc = 'current_location'\n",
        "    print(f'Mean Location of the sample set: {sum([profile[loc][0] for profile in f_profile])/len(f_profile),sum([profile[loc][1] for profile in f_profile])/len(f_profile)}')    \n",
        "\n",
        "\n",
        "# Calculate Max Age and Average Age across the sample set\n",
        "def max_avg_age(f_profile, approach):\n",
        "  '''Method to calculate maximum and average age across all the sample profiles'''\n",
        "  if approach == 'NamedTuple':\n",
        "    age_list = [(datetime.datetime.today().date() - profile.birthdate).days for profile in f_profile]\n",
        "  else:\n",
        "    age_list = [(datetime.datetime.today().date() - profile['birthdate']).days for profile in f_profile]\n",
        "\n",
        "  print(f'Maximum Age in the sample set: {round(max(age_list)/365,1)}')\n",
        "  print(f'Average Age in the sameple set: {round((sum(age_list)/365)/len(age_list),1)}')"
      ],
      "execution_count": null,
      "outputs": []
    },
    {
      "cell_type": "markdown",
      "metadata": {
        "id": "IrWCRt_rx80n"
      },
      "source": [
        "##### Running using Named Tuple Approach"
      ]
    },
    {
      "cell_type": "code",
      "metadata": {
        "id": "Kp0x-BS-gKTu"
      },
      "source": [
        "def fake_profiles_analysis_namedtuple():\n",
        "  '''Calculate Time for the execution using Named Tuple Approach'''\n",
        "  start = time.perf_counter()\n",
        "  approach = 'NamedTuple'\n",
        "  fake_profile = create_fake_profile_using_namedtuple(10000)\n",
        "\n",
        "  mostcommon_blood_type(fake_profile, approach)\n",
        "  mean_loc(fake_profile, approach)\n",
        "  max_avg_age(fake_profile, approach)\n",
        "\n",
        "  end = time.perf_counter()\n",
        "\n",
        "  time_taken = end-start\n",
        "\n",
        "  print(f'It took {time_taken} seconds to execute the task using Named Tuple Approach')"
      ],
      "execution_count": null,
      "outputs": []
    },
    {
      "cell_type": "code",
      "metadata": {
        "colab": {
          "base_uri": "https://localhost:8080/"
        },
        "id": "qlyUcxTby2rL",
        "outputId": "f3252644-9504-4740-8f14-841db24bd2d0"
      },
      "source": [
        "fake_profiles_analysis_namedtuple()"
      ],
      "execution_count": null,
      "outputs": [
        {
          "output_type": "stream",
          "text": [
            "Blood Group Distribution: {'AB-': 1182, 'A-': 1254, 'AB+': 1270, 'O+': 1232, 'O-': 1234, 'B-': 1287, 'B+': 1224, 'A+': 1317}\n",
            "O- is the most common blood group in the sample set\n",
            "Mean Location of the sample set: (Decimal('-0.101624539'), Decimal('1.0701697107'))\n",
            "Maximum Age in the sample set: 116.1\n",
            "Average Age in the sameple set: 57.9\n",
            "It took 15.450526821000494 seconds to execute the task using Named Tuple Approach\n"
          ],
          "name": "stdout"
        }
      ]
    },
    {
      "cell_type": "markdown",
      "metadata": {
        "id": "CJMkyl9HyDfG"
      },
      "source": [
        "##### Running using Dictionary Approach"
      ]
    },
    {
      "cell_type": "code",
      "metadata": {
        "id": "Jz3MFiVmxPDN"
      },
      "source": [
        "def fake_profiles_analysis_dictionary():\n",
        "  '''Calculate Time for the execution using Dictionary Approach'''\n",
        "  start = time.perf_counter()\n",
        "  approach = 'Dictionary'\n",
        "  fake_profile = create_fake_profile_using_dictionary(10000)\n",
        "\n",
        "  mostcommon_blood_type(fake_profile, approach)\n",
        "  mean_loc(fake_profile, approach)\n",
        "  max_avg_age(fake_profile, approach)\n",
        "\n",
        "  end = time.perf_counter()\n",
        "\n",
        "  time_taken = end-start\n",
        "\n",
        "  print(f'It took {time_taken} seconds to execute the task using Dictionary Approach')"
      ],
      "execution_count": null,
      "outputs": []
    },
    {
      "cell_type": "code",
      "metadata": {
        "colab": {
          "base_uri": "https://localhost:8080/"
        },
        "id": "fdBIsBTCzJTO",
        "outputId": "6c48ca42-715e-4fe0-f45f-b45f61583c0e"
      },
      "source": [
        "fake_profiles_analysis_dictionary()"
      ],
      "execution_count": null,
      "outputs": [
        {
          "output_type": "stream",
          "text": [
            "Blood Group Distribution: {'O-': 1231, 'A-': 1230, 'B-': 1287, 'AB-': 1251, 'AB+': 1291, 'B+': 1187, 'O+': 1263, 'A+': 1260}\n",
            "O- is the most common blood group in the sample set\n",
            "Mean Location of the sample set: (Decimal('0.36096435375'), Decimal('-0.0455465224'))\n",
            "Maximum Age in the sample set: 116.1\n",
            "Average Age in the sameple set: 58.3\n",
            "It took 15.791513819000102 seconds to execute the task using Dictionary Approach\n"
          ],
          "name": "stdout"
        }
      ]
    },
    {
      "cell_type": "markdown",
      "metadata": {
        "id": "U2NyuhJyyJUw"
      },
      "source": [
        "###### *Based on the comparitive analysis of runs, it is clear that NamedTuple Approach runs faster than Dictionary based Approach*\n",
        "\n",
        "---"
      ]
    },
    {
      "cell_type": "markdown",
      "metadata": {
        "id": "uDK0L9vFjwqo"
      },
      "source": [
        "#### Question 3: Create fake data (you can use Faker for company names) for imaginary stock exchange for top 100 companies (name, symbol, open, high, close). Assign a random weight to all the companies. Calculate and show what value the stock market started at, what was the highest value during the day, and where did it end. Make sure your open, high, close are not totally random. You can only use namedtuple."
      ]
    },
    {
      "cell_type": "code",
      "metadata": {
        "id": "WBLll_24y_zT"
      },
      "source": [
        "company = namedtuple('Company','company_name symbol open high close')\n",
        "\n",
        "def create_company_tuple():\n",
        "    '''Create Company Names from Faker Library'''\n",
        "    company_name = fake.company()\n",
        "    symbol = company_name[0:4].upper()\n",
        "    open = random.randint(10,4000)\n",
        "    high = int(open * random.uniform(.9,1.1))\n",
        "    close = int(high * random.uniform(0.9,1))\n",
        "\n",
        "    return company(company_name,symbol,open,high,close)"
      ],
      "execution_count": null,
      "outputs": []
    },
    {
      "cell_type": "code",
      "metadata": {
        "id": "2VZdr3t92FaY"
      },
      "source": [
        "company_tuple = namedtuple('Company_tuple',list(range(100)),rename=True)"
      ],
      "execution_count": null,
      "outputs": []
    },
    {
      "cell_type": "code",
      "metadata": {
        "id": "_FqLloLLKawc",
        "colab": {
          "base_uri": "https://localhost:8080/"
        },
        "outputId": "1b309a50-6e50-4018-9278-c06b74d8f064"
      },
      "source": [
        "# Assign Weights to the comapanies so that the total adds to 100\n",
        "weights = [round(random.uniform(0,1),2) for i in range(100)]\n",
        "\n",
        "weight = namedtuple('Weight',list(range(100)),rename=True)\n",
        "\n",
        "adjusted_weights = weight._make([i/sum(weights)for i in weights])\n",
        "print(adjusted_weights)\n",
        "\n",
        "# Create a new NamedTuple for Stocks by adding the respective weights\n",
        "stock = namedtuple('Stock',company._fields + ('weight_in_index',))\n",
        "\n",
        "final_company_tuple = company_tuple._make([stock(*create_company_tuple(),adjusted_weights[i]) for i in range(100)])\n",
        "print(final_company_tuple)"
      ],
      "execution_count": null,
      "outputs": [
        {
          "output_type": "stream",
          "text": [
            "Weight(_0=0.016567386448250183, _1=0.003536857781087118, _2=0.01805658972449739, _3=0.002978406552494415, _4=0.009865971705137751, _5=0.0007446016381236038, _6=0.0024199553239017124, _7=0.01582278481012658, _8=0.0, _9=0.013216679076693967, _10=0.006515264333581533, _11=0.012285927029039464, _12=0.004467609828741622, _13=0.014705882352941176, _14=0.002978406552494415, _15=0.007073715562174236, _16=0.003536857781087118, _17=0.002792256142963514, _18=0.004839910647803425, _19=0.016753536857781085, _20=0.002792256142963514, _21=0.013216679076693967, _22=0.014333581533879373, _23=0.014892032762472076, _24=0.01358897989575577, _25=0.008376768428890543, _26=0.012658227848101266, _27=0.005584512285927028, _28=0.011169024571854057, _29=0.01749813849590469, _30=0.01377513030528667, _31=0.008935219657483244, _32=0.010982874162323155, _33=0.007073715562174236, _34=0.003723008190618019, _35=0.0013030528667163067, _36=0.008190618019359643, _37=0.013402829486224867, _38=0.018428890543559194, _39=0.01768428890543559, _40=0.010052122114668651, _41=0.006142963514519732, _42=0.005212211466865227, _43=0.00018615040953090094, _44=0.007632166790766938, _45=0.007818317200297839, _46=0.004653760238272524, _47=0.004653760238272524, _48=0.01731198808637379, _49=0.01377513030528667, _50=0.0053983618763961275, _51=0.013030528667163066, _52=0.018242740134028292, _53=0.002233804914370811, _54=0.008749069247952344, _55=0.0009307520476545048, _56=0.008190618019359643, _57=0.0026061057334326133, _58=0.01731198808637379, _59=0.0016753536857781084, _60=0.011169024571854057, _61=0.0013030528667163067, _62=0.011541325390915859, _63=0.008749069247952344, _64=0.014519731943410275, _65=0.010052122114668651, _66=0.01731198808637379, _67=0.01358897989575577, _68=0.01582278481012658, _69=0.015264333581533876, _70=0.010424422933730453, _71=0.005770662695457929, _72=0.013402829486224867, _73=0.010052122114668651, _74=0.00595681310498883, _75=0.0016753536857781084, _76=0.006701414743112434, _77=0.012472077438570364, _78=0.016939687267311987, _79=0.005212211466865227, _80=0.011541325390915859, _81=0.018242740134028292, _82=0.01805658972449739, _83=0.015264333581533876, _84=0.009121370067014146, _85=0.01749813849590469, _86=0.013030528667163066, _87=0.01582278481012658, _88=0.018615040953090096, _89=0.00800446760982874, _90=0.010052122114668651, _91=0.01805658972449739, _92=0.01749813849590469, _93=0.008562918838421444, _94=0.012099776619508562, _95=0.01172747580044676, _96=0.009493670886075948, _97=0.010424422933730453, _98=0.0026061057334326133, _99=0.01377513030528667)\n",
            "Company_tuple(_0=Stock(company_name='Guerra-Jones', symbol='GUER', open=1187, high=1159, close=1134, weight_in_index=0.016567386448250183), _1=Stock(company_name='Keith and Sons', symbol='KEIT', open=57, high=61, close=60, weight_in_index=0.003536857781087118), _2=Stock(company_name='Fry, Harrison and Holland', symbol='FRY,', open=3609, high=3514, close=3204, weight_in_index=0.01805658972449739), _3=Stock(company_name='Owens-Bush', symbol='OWEN', open=3413, high=3561, close=3276, weight_in_index=0.002978406552494415), _4=Stock(company_name='Sanchez, Ponce and Lopez', symbol='SANC', open=1992, high=1987, close=1857, weight_in_index=0.009865971705137751), _5=Stock(company_name='Wells, Grant and Jackson', symbol='WELL', open=1858, high=1717, close=1689, weight_in_index=0.0007446016381236038), _6=Stock(company_name='Fox Inc', symbol='FOX ', open=309, high=305, close=298, weight_in_index=0.0024199553239017124), _7=Stock(company_name='Brewer LLC', symbol='BREW', open=1491, high=1494, close=1401, weight_in_index=0.01582278481012658), _8=Stock(company_name='Sweeney Ltd', symbol='SWEE', open=2442, high=2670, close=2650, weight_in_index=0.0), _9=Stock(company_name='Morgan-Mccoy', symbol='MORG', open=2446, high=2682, close=2492, weight_in_index=0.013216679076693967), _10=Stock(company_name='Nelson-Hunt', symbol='NELS', open=2662, high=2740, close=2688, weight_in_index=0.006515264333581533), _11=Stock(company_name='Gray LLC', symbol='GRAY', open=2278, high=2201, close=2111, weight_in_index=0.012285927029039464), _12=Stock(company_name='Mitchell-Jones', symbol='MITC', open=1128, high=1193, close=1192, weight_in_index=0.004467609828741622), _13=Stock(company_name='Griffin, Allen and Gonzalez', symbol='GRIF', open=2668, high=2620, close=2405, weight_in_index=0.014705882352941176), _14=Stock(company_name='Trevino and Sons', symbol='TREV', open=2317, high=2366, close=2284, weight_in_index=0.002978406552494415), _15=Stock(company_name='Rodriguez, Young and Hawkins', symbol='RODR', open=1254, high=1190, close=1163, weight_in_index=0.007073715562174236), _16=Stock(company_name='West, Glass and Allen', symbol='WEST', open=3583, high=3353, close=3058, weight_in_index=0.003536857781087118), _17=Stock(company_name='Jackson-King', symbol='JACK', open=3377, high=3269, close=2950, weight_in_index=0.002792256142963514), _18=Stock(company_name='Norman-Martinez', symbol='NORM', open=2017, high=2148, close=2005, weight_in_index=0.004839910647803425), _19=Stock(company_name='Johnson, Luna and Woods', symbol='JOHN', open=1862, high=1919, close=1889, weight_in_index=0.016753536857781085), _20=Stock(company_name='White, Hines and Ramirez', symbol='WHIT', open=481, high=500, close=463, weight_in_index=0.002792256142963514), _21=Stock(company_name='Jenkins-Butler', symbol='JENK', open=3604, high=3739, close=3370, weight_in_index=0.013216679076693967), _22=Stock(company_name='Williams, Harris and Green', symbol='WILL', open=1083, high=1157, close=1055, weight_in_index=0.014333581533879373), _23=Stock(company_name='Riddle, Sosa and Schroeder', symbol='RIDD', open=3984, high=3925, close=3807, weight_in_index=0.014892032762472076), _24=Stock(company_name='Wong-Gonzalez', symbol='WONG', open=1717, high=1693, close=1673, weight_in_index=0.01358897989575577), _25=Stock(company_name='Smith, Jones and Joseph', symbol='SMIT', open=3587, high=3290, close=3280, weight_in_index=0.008376768428890543), _26=Stock(company_name='Maxwell-Smith', symbol='MAXW', open=2772, high=2688, close=2658, weight_in_index=0.012658227848101266), _27=Stock(company_name='Nguyen-Roberts', symbol='NGUY', open=3047, high=2960, close=2948, weight_in_index=0.005584512285927028), _28=Stock(company_name='Bailey-Williams', symbol='BAIL', open=2856, high=2793, close=2669, weight_in_index=0.011169024571854057), _29=Stock(company_name='Flores and Sons', symbol='FLOR', open=2454, high=2674, close=2616, weight_in_index=0.01749813849590469), _30=Stock(company_name='Estrada, Taylor and Lee', symbol='ESTR', open=104, high=107, close=96, weight_in_index=0.01377513030528667), _31=Stock(company_name='Reid Ltd', symbol='REID', open=1054, high=1074, close=989, weight_in_index=0.008935219657483244), _32=Stock(company_name='Wall Inc', symbol='WALL', open=3832, high=4045, close=3665, weight_in_index=0.010982874162323155), _33=Stock(company_name='Bell, Freeman and Lopez', symbol='BELL', open=793, high=737, close=669, weight_in_index=0.007073715562174236), _34=Stock(company_name='Watson, Walker and Ewing', symbol='WATS', open=1800, high=1916, close=1874, weight_in_index=0.003723008190618019), _35=Stock(company_name='Chavez, Morales and Ortega', symbol='CHAV', open=192, high=177, close=170, weight_in_index=0.0013030528667163067), _36=Stock(company_name='Stone-Griffin', symbol='STON', open=2109, high=2211, close=2044, weight_in_index=0.008190618019359643), _37=Stock(company_name='Kramer LLC', symbol='KRAM', open=1876, high=2006, close=1998, weight_in_index=0.013402829486224867), _38=Stock(company_name='Brown Ltd', symbol='BROW', open=1915, high=2035, close=2033, weight_in_index=0.018428890543559194), _39=Stock(company_name='Knight, Andrews and Hale', symbol='KNIG', open=2908, high=2770, close=2661, weight_in_index=0.01768428890543559), _40=Stock(company_name='Dean-Williams', symbol='DEAN', open=1939, high=1974, close=1921, weight_in_index=0.010052122114668651), _41=Stock(company_name='Hester Ltd', symbol='HEST', open=304, high=295, close=291, weight_in_index=0.006142963514519732), _42=Stock(company_name='Ramos-Gomez', symbol='RAMO', open=373, high=359, close=341, weight_in_index=0.005212211466865227), _43=Stock(company_name='White-Wolf', symbol='WHIT', open=3226, high=3010, close=2819, weight_in_index=0.00018615040953090094), _44=Stock(company_name='Lewis-Patterson', symbol='LEWI', open=576, high=570, close=559, weight_in_index=0.007632166790766938), _45=Stock(company_name='Quinn-Ortiz', symbol='QUIN', open=3910, high=3824, close=3442, weight_in_index=0.007818317200297839), _46=Stock(company_name='Murillo-Chang', symbol='MURI', open=3196, high=2973, close=2855, weight_in_index=0.004653760238272524), _47=Stock(company_name='Young Inc', symbol='YOUN', open=3517, high=3716, close=3690, weight_in_index=0.004653760238272524), _48=Stock(company_name='Carlson-Rivera', symbol='CARL', open=2829, high=2612, close=2609, weight_in_index=0.01731198808637379), _49=Stock(company_name='Harris, Serrano and Burnett', symbol='HARR', open=3383, high=3598, close=3377, weight_in_index=0.01377513030528667), _50=Stock(company_name='Campbell-Jacobs', symbol='CAMP', open=2227, high=2194, close=2086, weight_in_index=0.0053983618763961275), _51=Stock(company_name='Solomon-Stewart', symbol='SOLO', open=3707, high=3337, close=3239, weight_in_index=0.013030528667163066), _52=Stock(company_name='Bautista LLC', symbol='BAUT', open=3831, high=3921, close=3581, weight_in_index=0.018242740134028292), _53=Stock(company_name='Fuller and Sons', symbol='FULL', open=3999, high=4220, close=4137, weight_in_index=0.002233804914370811), _54=Stock(company_name='Edwards, Hunt and Ramirez', symbol='EDWA', open=771, high=828, close=772, weight_in_index=0.008749069247952344), _55=Stock(company_name='Novak-Francis', symbol='NOVA', open=35, high=32, close=30, weight_in_index=0.0009307520476545048), _56=Stock(company_name='Bennett Inc', symbol='BENN', open=1349, high=1441, close=1424, weight_in_index=0.008190618019359643), _57=Stock(company_name='Luna-Pittman', symbol='LUNA', open=3119, high=3386, close=3319, weight_in_index=0.0026061057334326133), _58=Stock(company_name='Coleman-Murphy', symbol='COLE', open=3717, high=3879, close=3811, weight_in_index=0.01731198808637379), _59=Stock(company_name='Hill, Hines and Diaz', symbol='HILL', open=1695, high=1691, close=1602, weight_in_index=0.0016753536857781084), _60=Stock(company_name='Lopez Ltd', symbol='LOPE', open=1838, high=1682, close=1555, weight_in_index=0.011169024571854057), _61=Stock(company_name='Delacruz Group', symbol='DELA', open=810, high=861, close=807, weight_in_index=0.0013030528667163067), _62=Stock(company_name='Moon Ltd', symbol='MOON', open=573, high=601, close=595, weight_in_index=0.011541325390915859), _63=Stock(company_name='Williams-Malone', symbol='WILL', open=631, high=622, close=572, weight_in_index=0.008749069247952344), _64=Stock(company_name='Harmon-Morgan', symbol='HARM', open=3459, high=3660, close=3322, weight_in_index=0.014519731943410275), _65=Stock(company_name='Johnson-Cox', symbol='JOHN', open=2683, high=2786, close=2577, weight_in_index=0.010052122114668651), _66=Stock(company_name='Mata PLC', symbol='MATA', open=3578, high=3504, close=3468, weight_in_index=0.01731198808637379), _67=Stock(company_name='Mcguire PLC', symbol='MCGU', open=1836, high=1963, close=1946, weight_in_index=0.01358897989575577), _68=Stock(company_name='Craig, Friedman and Thomas', symbol='CRAI', open=995, high=1034, close=1024, weight_in_index=0.01582278481012658), _69=Stock(company_name='Bautista Inc', symbol='BAUT', open=1578, high=1610, close=1505, weight_in_index=0.015264333581533876), _70=Stock(company_name='Hood, Kemp and Smith', symbol='HOOD', open=2304, high=2076, close=1906, weight_in_index=0.010424422933730453), _71=Stock(company_name='Johnson-Glass', symbol='JOHN', open=3510, high=3390, close=3376, weight_in_index=0.005770662695457929), _72=Stock(company_name='Long Group', symbol='LONG', open=2812, high=2938, close=2730, weight_in_index=0.013402829486224867), _73=Stock(company_name='Moran, Johnson and Compton', symbol='MORA', open=3333, high=3130, close=2853, weight_in_index=0.010052122114668651), _74=Stock(company_name='Berry-Conrad', symbol='BERR', open=757, high=805, close=803, weight_in_index=0.00595681310498883), _75=Stock(company_name='Morton-Robinson', symbol='MORT', open=2740, high=2882, close=2622, weight_in_index=0.0016753536857781084), _76=Stock(company_name='Morris and Sons', symbol='MORR', open=98, high=91, close=87, weight_in_index=0.006701414743112434), _77=Stock(company_name='Neal Ltd', symbol='NEAL', open=2604, high=2455, close=2298, weight_in_index=0.012472077438570364), _78=Stock(company_name='Mcclure-Sharp', symbol='MCCL', open=2739, high=2862, close=2823, weight_in_index=0.016939687267311987), _79=Stock(company_name='Stone Ltd', symbol='STON', open=3878, high=3627, close=3467, weight_in_index=0.005212211466865227), _80=Stock(company_name='Carr, Flores and Brown', symbol='CARR', open=3134, high=3339, close=3006, weight_in_index=0.011541325390915859), _81=Stock(company_name='Brown, Myers and Jordan', symbol='BROW', open=1314, high=1401, close=1290, weight_in_index=0.018242740134028292), _82=Stock(company_name='Cruz, Moran and Davis', symbol='CRUZ', open=933, high=877, close=854, weight_in_index=0.01805658972449739), _83=Stock(company_name='Bowman, Nolan and Calhoun', symbol='BOWM', open=3334, high=3406, close=3269, weight_in_index=0.015264333581533876), _84=Stock(company_name='Meyer, Clark and Mack', symbol='MEYE', open=857, high=904, close=833, weight_in_index=0.009121370067014146), _85=Stock(company_name='Pearson, Reilly and Burns', symbol='PEAR', open=389, high=404, close=384, weight_in_index=0.01749813849590469), _86=Stock(company_name='Medina, Ray and Brown', symbol='MEDI', open=170, high=162, close=160, weight_in_index=0.013030528667163066), _87=Stock(company_name='Evans, Davis and Brady', symbol='EVAN', open=3027, high=2953, close=2718, weight_in_index=0.01582278481012658), _88=Stock(company_name='Cox, Brown and Price', symbol='COX,', open=2296, high=2100, close=2013, weight_in_index=0.018615040953090096), _89=Stock(company_name='Jones, Riley and Ritter', symbol='JONE', open=2860, high=3075, close=2848, weight_in_index=0.00800446760982874), _90=Stock(company_name='Long, Rodriguez and Cole', symbol='LONG', open=820, high=803, close=790, weight_in_index=0.010052122114668651), _91=Stock(company_name='Evans, Green and Riddle', symbol='EVAN', open=1335, high=1224, close=1184, weight_in_index=0.01805658972449739), _92=Stock(company_name='Schmidt, Glenn and Campbell', symbol='SCHM', open=644, high=663, close=650, weight_in_index=0.01749813849590469), _93=Stock(company_name='Carroll, Craig and Whitney', symbol='CARR', open=669, high=653, close=641, weight_in_index=0.008562918838421444), _94=Stock(company_name='King, Thompson and David', symbol='KING', open=586, high=603, close=553, weight_in_index=0.012099776619508562), _95=Stock(company_name='Walters, Blake and Garcia', symbol='WALT', open=3941, high=3598, close=3489, weight_in_index=0.01172747580044676), _96=Stock(company_name='Gonzalez-Clarke', symbol='GONZ', open=2190, high=2008, close=1859, weight_in_index=0.009493670886075948), _97=Stock(company_name='Lee Inc', symbol='LEE ', open=1679, high=1754, close=1708, weight_in_index=0.010424422933730453), _98=Stock(company_name='Moore, Wheeler and Simmons', symbol='MOOR', open=1287, high=1389, close=1330, weight_in_index=0.0026061057334326133), _99=Stock(company_name='Duke PLC', symbol='DUKE', open=3442, high=3281, close=3176, weight_in_index=0.01377513030528667))\n"
          ],
          "name": "stdout"
        }
      ]
    },
    {
      "cell_type": "code",
      "metadata": {
        "id": "e8P6Lj_0LN1g",
        "colab": {
          "base_uri": "https://localhost:8080/"
        },
        "outputId": "fc240993-a76a-4c70-bc3a-c1ddf2034736"
      },
      "source": [
        "# Calculate market open, high and close prices and store them in a NamedTuple\n",
        "\n",
        "MarketIndex = namedtuple('MarketIndex','open high close')\n",
        "\n",
        "market_open, market_high, market_close = 0,0,0\n",
        "for i in range(len(final_company_tuple)):\n",
        "  market_open += (final_company_tuple[i].open * final_company_tuple[i].weight_in_index)\n",
        "  market_high += (final_company_tuple[i].high * final_company_tuple[i].weight_in_index)\n",
        "  market_close += (final_company_tuple[i].close * final_company_tuple[i].weight_in_index)\n",
        "\n",
        "market_index = MarketIndex(open = round(market_open,2), high = round(market_high,2), close = round(market_close,2)) \n",
        "print(market_index)\n",
        "\n",
        "print(f'\\nUsing Named Tuples, we were able to calculate the Index Open, High and Close Prices as shown below:\\n')\n",
        "print(f'Market Open: {market_index.open}')\n",
        "print(f'Market High: {market_index.high}')\n",
        "print(f'Market Close: {market_index.close}')"
      ],
      "execution_count": null,
      "outputs": [
        {
          "output_type": "stream",
          "text": [
            "MarketIndex(open=2170.01, high=2169.65, close=2064.74)\n",
            "\n",
            "Using Named Tuples, we were able to calculate the Index Open, High and Close Prices as shown below:\n",
            "\n",
            "Market Open: 2170.01\n",
            "Market High: 2169.65\n",
            "Market Close: 2064.74\n"
          ],
          "name": "stdout"
        }
      ]
    }
  ]
}